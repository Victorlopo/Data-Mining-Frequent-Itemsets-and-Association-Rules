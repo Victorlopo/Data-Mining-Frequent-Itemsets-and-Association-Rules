{
  "nbformat": 4,
  "nbformat_minor": 0,
  "metadata": {
    "colab": {
      "provenance": []
    },
    "kernelspec": {
      "name": "python3",
      "display_name": "Python 3"
    },
    "language_info": {
      "name": "python"
    }
  },
  "cells": [
    {
      "cell_type": "markdown",
      "source": [
        "# **Section I: From data to singletons**"
      ],
      "metadata": {
        "id": "IG4HSOJU9NmD"
      }
    },
    {
      "cell_type": "code",
      "execution_count": null,
      "metadata": {
        "id": "bn5sMzUBHSLi",
        "colab": {
          "base_uri": "https://localhost:8080/"
        },
        "outputId": "29eeb663-c451-447d-9b62-07f151c95ee9"
      },
      "outputs": [
        {
          "output_type": "stream",
          "name": "stdout",
          "text": [
            "Mounted at /content/drive\n"
          ]
        }
      ],
      "source": [
        "#Importing data\n",
        "#With google docs\n",
        "import csv\n",
        "from google.colab import drive\n",
        "import pandas as pd\n",
        "\n",
        "drive.mount('/content/drive')\n",
        "path ='drive/My Drive/Colab Notebooks/data/T10I4D100K.dat'\n",
        "''' path = WITHOUT COLAB, define path here '''\n",
        "df = pd. read_csv(path, sep=',', names=['Transactions'])"
      ]
    },
    {
      "cell_type": "code",
      "source": [
        "df"
      ],
      "metadata": {
        "colab": {
          "base_uri": "https://localhost:8080/",
          "height": 424
        },
        "id": "PntmVoNZIyXe",
        "outputId": "cebb3db2-8a73-4ce3-afbe-28587e503bd6"
      },
      "execution_count": null,
      "outputs": [
        {
          "output_type": "execute_result",
          "data": {
            "text/plain": [
              "                                            Transactions\n",
              "0      25 52 164 240 274 328 368 448 538 561 630 687 ...\n",
              "1                39 120 124 205 401 581 704 814 825 834 \n",
              "2                        35 249 674 712 733 759 854 950 \n",
              "3                39 422 449 704 825 857 895 937 954 964 \n",
              "4      15 229 262 283 294 352 381 708 738 766 853 883...\n",
              "...                                                  ...\n",
              "99995                        39 132 623 704 795 825 853 \n",
              "99996    72 120 241 268 351 354 545 567 606 749 841 893 \n",
              "99997                            82 313 406 421 438 629 \n",
              "99998     69 75 140 175 285 494 598 614 641 723 829 871 \n",
              "99999  32 239 372 419 448 510 540 581 674 752 802 844...\n",
              "\n",
              "[100000 rows x 1 columns]"
            ],
            "text/html": [
              "\n",
              "  <div id=\"df-60ffab98-7704-4703-9bdd-bc2dd01f5676\">\n",
              "    <div class=\"colab-df-container\">\n",
              "      <div>\n",
              "<style scoped>\n",
              "    .dataframe tbody tr th:only-of-type {\n",
              "        vertical-align: middle;\n",
              "    }\n",
              "\n",
              "    .dataframe tbody tr th {\n",
              "        vertical-align: top;\n",
              "    }\n",
              "\n",
              "    .dataframe thead th {\n",
              "        text-align: right;\n",
              "    }\n",
              "</style>\n",
              "<table border=\"1\" class=\"dataframe\">\n",
              "  <thead>\n",
              "    <tr style=\"text-align: right;\">\n",
              "      <th></th>\n",
              "      <th>Transactions</th>\n",
              "    </tr>\n",
              "  </thead>\n",
              "  <tbody>\n",
              "    <tr>\n",
              "      <th>0</th>\n",
              "      <td>25 52 164 240 274 328 368 448 538 561 630 687 ...</td>\n",
              "    </tr>\n",
              "    <tr>\n",
              "      <th>1</th>\n",
              "      <td>39 120 124 205 401 581 704 814 825 834</td>\n",
              "    </tr>\n",
              "    <tr>\n",
              "      <th>2</th>\n",
              "      <td>35 249 674 712 733 759 854 950</td>\n",
              "    </tr>\n",
              "    <tr>\n",
              "      <th>3</th>\n",
              "      <td>39 422 449 704 825 857 895 937 954 964</td>\n",
              "    </tr>\n",
              "    <tr>\n",
              "      <th>4</th>\n",
              "      <td>15 229 262 283 294 352 381 708 738 766 853 883...</td>\n",
              "    </tr>\n",
              "    <tr>\n",
              "      <th>...</th>\n",
              "      <td>...</td>\n",
              "    </tr>\n",
              "    <tr>\n",
              "      <th>99995</th>\n",
              "      <td>39 132 623 704 795 825 853</td>\n",
              "    </tr>\n",
              "    <tr>\n",
              "      <th>99996</th>\n",
              "      <td>72 120 241 268 351 354 545 567 606 749 841 893</td>\n",
              "    </tr>\n",
              "    <tr>\n",
              "      <th>99997</th>\n",
              "      <td>82 313 406 421 438 629</td>\n",
              "    </tr>\n",
              "    <tr>\n",
              "      <th>99998</th>\n",
              "      <td>69 75 140 175 285 494 598 614 641 723 829 871</td>\n",
              "    </tr>\n",
              "    <tr>\n",
              "      <th>99999</th>\n",
              "      <td>32 239 372 419 448 510 540 581 674 752 802 844...</td>\n",
              "    </tr>\n",
              "  </tbody>\n",
              "</table>\n",
              "<p>100000 rows × 1 columns</p>\n",
              "</div>\n",
              "      <button class=\"colab-df-convert\" onclick=\"convertToInteractive('df-60ffab98-7704-4703-9bdd-bc2dd01f5676')\"\n",
              "              title=\"Convert this dataframe to an interactive table.\"\n",
              "              style=\"display:none;\">\n",
              "        \n",
              "  <svg xmlns=\"http://www.w3.org/2000/svg\" height=\"24px\"viewBox=\"0 0 24 24\"\n",
              "       width=\"24px\">\n",
              "    <path d=\"M0 0h24v24H0V0z\" fill=\"none\"/>\n",
              "    <path d=\"M18.56 5.44l.94 2.06.94-2.06 2.06-.94-2.06-.94-.94-2.06-.94 2.06-2.06.94zm-11 1L8.5 8.5l.94-2.06 2.06-.94-2.06-.94L8.5 2.5l-.94 2.06-2.06.94zm10 10l.94 2.06.94-2.06 2.06-.94-2.06-.94-.94-2.06-.94 2.06-2.06.94z\"/><path d=\"M17.41 7.96l-1.37-1.37c-.4-.4-.92-.59-1.43-.59-.52 0-1.04.2-1.43.59L10.3 9.45l-7.72 7.72c-.78.78-.78 2.05 0 2.83L4 21.41c.39.39.9.59 1.41.59.51 0 1.02-.2 1.41-.59l7.78-7.78 2.81-2.81c.8-.78.8-2.07 0-2.86zM5.41 20L4 18.59l7.72-7.72 1.47 1.35L5.41 20z\"/>\n",
              "  </svg>\n",
              "      </button>\n",
              "      \n",
              "  <style>\n",
              "    .colab-df-container {\n",
              "      display:flex;\n",
              "      flex-wrap:wrap;\n",
              "      gap: 12px;\n",
              "    }\n",
              "\n",
              "    .colab-df-convert {\n",
              "      background-color: #E8F0FE;\n",
              "      border: none;\n",
              "      border-radius: 50%;\n",
              "      cursor: pointer;\n",
              "      display: none;\n",
              "      fill: #1967D2;\n",
              "      height: 32px;\n",
              "      padding: 0 0 0 0;\n",
              "      width: 32px;\n",
              "    }\n",
              "\n",
              "    .colab-df-convert:hover {\n",
              "      background-color: #E2EBFA;\n",
              "      box-shadow: 0px 1px 2px rgba(60, 64, 67, 0.3), 0px 1px 3px 1px rgba(60, 64, 67, 0.15);\n",
              "      fill: #174EA6;\n",
              "    }\n",
              "\n",
              "    [theme=dark] .colab-df-convert {\n",
              "      background-color: #3B4455;\n",
              "      fill: #D2E3FC;\n",
              "    }\n",
              "\n",
              "    [theme=dark] .colab-df-convert:hover {\n",
              "      background-color: #434B5C;\n",
              "      box-shadow: 0px 1px 3px 1px rgba(0, 0, 0, 0.15);\n",
              "      filter: drop-shadow(0px 1px 2px rgba(0, 0, 0, 0.3));\n",
              "      fill: #FFFFFF;\n",
              "    }\n",
              "  </style>\n",
              "\n",
              "      <script>\n",
              "        const buttonEl =\n",
              "          document.querySelector('#df-60ffab98-7704-4703-9bdd-bc2dd01f5676 button.colab-df-convert');\n",
              "        buttonEl.style.display =\n",
              "          google.colab.kernel.accessAllowed ? 'block' : 'none';\n",
              "\n",
              "        async function convertToInteractive(key) {\n",
              "          const element = document.querySelector('#df-60ffab98-7704-4703-9bdd-bc2dd01f5676');\n",
              "          const dataTable =\n",
              "            await google.colab.kernel.invokeFunction('convertToInteractive',\n",
              "                                                     [key], {});\n",
              "          if (!dataTable) return;\n",
              "\n",
              "          const docLinkHtml = 'Like what you see? Visit the ' +\n",
              "            '<a target=\"_blank\" href=https://colab.research.google.com/notebooks/data_table.ipynb>data table notebook</a>'\n",
              "            + ' to learn more about interactive tables.';\n",
              "          element.innerHTML = '';\n",
              "          dataTable['output_type'] = 'display_data';\n",
              "          await google.colab.output.renderOutput(dataTable, element);\n",
              "          const docLink = document.createElement('div');\n",
              "          docLink.innerHTML = docLinkHtml;\n",
              "          element.appendChild(docLink);\n",
              "        }\n",
              "      </script>\n",
              "    </div>\n",
              "  </div>\n",
              "  "
            ]
          },
          "metadata": {},
          "execution_count": 109
        }
      ]
    },
    {
      "cell_type": "code",
      "source": [
        "transactions = list(df['Transactions'])"
      ],
      "metadata": {
        "id": "0CDpJX04N0nA"
      },
      "execution_count": null,
      "outputs": []
    },
    {
      "cell_type": "code",
      "source": [
        "len(transactions)"
      ],
      "metadata": {
        "colab": {
          "base_uri": "https://localhost:8080/"
        },
        "id": "IyhSjUF7QSfW",
        "outputId": "b1e4d9e9-1d87-4f48-f646-0ced5e9599b5"
      },
      "execution_count": null,
      "outputs": [
        {
          "output_type": "execute_result",
          "data": {
            "text/plain": [
              "100000"
            ]
          },
          "metadata": {},
          "execution_count": 219
        }
      ]
    },
    {
      "cell_type": "code",
      "source": [
        "for i in range(0,len(transactions)):\n",
        "  transactions[i] = transactions[i].split()\n",
        "  transactions[i] = list(map(int, transactions[i]))"
      ],
      "metadata": {
        "id": "dE0RJPpzQNRU"
      },
      "execution_count": null,
      "outputs": []
    },
    {
      "cell_type": "code",
      "source": [
        "def get_singletons(transactions):\n",
        "  singletons  = dict()\n",
        "  for transaction in transactions:\n",
        "    for item in transaction:\n",
        "      if item not in singletons:\n",
        "        singletons[item] = 1\n",
        "      else:\n",
        "        singletons[item] = singletons[item] + 1\n",
        "  return singletons\n",
        "\n",
        "\n",
        "singletons = get_singletons(transactions)\n",
        "print(len(singletons))"
      ],
      "metadata": {
        "id": "kJxvL8xcUMhG",
        "colab": {
          "base_uri": "https://localhost:8080/"
        },
        "outputId": "ff2542e3-7227-4ff7-dea0-b88c06e03f87"
      },
      "execution_count": null,
      "outputs": [
        {
          "output_type": "stream",
          "name": "stdout",
          "text": [
            "870\n"
          ]
        }
      ]
    },
    {
      "cell_type": "code",
      "source": [
        "def filter_itons(itons, support_threshold):\n",
        "  itons_filtered = {}\n",
        "  for key, value in itons.items():\n",
        "      if value >= support_threshold:\n",
        "        itons_filtered[key] = value\n",
        "  return dict(sorted(itons_filtered.items(),key=lambda x:x[0]))\n",
        "\n",
        "singletons_filtered = filter_itons(singletons, 3500)\n",
        "len(singletons_filtered)"
      ],
      "metadata": {
        "colab": {
          "base_uri": "https://localhost:8080/"
        },
        "id": "IgtGMcQ_0pxx",
        "outputId": "ec8a43e4-013c-462f-af59-2ed2ae950e91"
      },
      "execution_count": null,
      "outputs": [
        {
          "output_type": "execute_result",
          "data": {
            "text/plain": [
              "40"
            ]
          },
          "metadata": {},
          "execution_count": 226
        }
      ]
    },
    {
      "cell_type": "markdown",
      "source": [
        "### **A Priori Algorithm**"
      ],
      "metadata": {
        "id": "aW27oLIB7Q63"
      }
    },
    {
      "cell_type": "markdown",
      "source": [
        "#### From singleton to doubletons"
      ],
      "metadata": {
        "id": "4NklojE078oP"
      }
    },
    {
      "cell_type": "code",
      "source": [
        "#create candidate pairs\n",
        "def getDoubletonsCandidates(singletons):\n",
        "  return combinations(singletons, 2)\n",
        "\n",
        "candidate_pairs_doubletons = getDoubletonsCandidates(singletons_filtered)"
      ],
      "metadata": {
        "id": "-us-D1t0q2eE"
      },
      "execution_count": null,
      "outputs": []
    },
    {
      "cell_type": "code",
      "source": [
        "doubletons = dict()\n",
        "#calculate support for candidate  pairs\n",
        "for doubleton in candidate_pairs_doubletons:\n",
        "  for transaction in transactions:\n",
        "    if doubleton[0] in transaction and doubleton[1] in transaction:\n",
        "        if doubleton not in doubletons:\n",
        "          doubletons[doubleton] = 1\n",
        "        else:\n",
        "          doubletons[doubleton] =  doubletons[doubleton] + 1\n",
        "print(doubletons)"
      ],
      "metadata": {
        "colab": {
          "base_uri": "https://localhost:8080/"
        },
        "id": "bypfjSpvrPu7",
        "outputId": "460129a8-7a9a-40ac-ae41-5ad78784c849"
      },
      "execution_count": null,
      "outputs": [
        {
          "output_type": "stream",
          "name": "stdout",
          "text": [
            "{(32, 39): 121, (32, 71): 117, (32, 120): 144, (32, 145): 246, (32, 177): 142, (32, 183): 114, (32, 205): 150, (32, 217): 254, (32, 283): 112, (32, 354): 222, (32, 362): 111, (32, 368): 248, (32, 401): 303, (32, 419): 154, (32, 438): 127, (32, 460): 283, (32, 470): 243, (32, 494): 313, (32, 529): 224, (32, 538): 115, (32, 541): 116, (32, 682): 123, (32, 684): 164, (32, 692): 163, (32, 720): 414, (32, 722): 191, (32, 766): 174, (32, 775): 144, (32, 789): 131, (32, 829): 216, (32, 862): 107, (32, 883): 192, (32, 888): 109, (32, 914): 262, (32, 919): 126, (32, 937): 453, (32, 947): 720, (32, 956): 111, (32, 966): 364, (39, 71): 104, (39, 120): 165, (39, 145): 734, (39, 177): 148, (39, 183): 111, (39, 205): 107, (39, 217): 172, (39, 283): 356, (39, 354): 310, (39, 362): 147, (39, 368): 565, (39, 401): 112, (39, 419): 511, (39, 438): 215, (39, 460): 147, (39, 470): 468, (39, 494): 144, (39, 529): 232, (39, 538): 108, (39, 541): 101, (39, 682): 120, (39, 684): 152, (39, 692): 155, (39, 720): 115, (39, 722): 370, (39, 766): 179, (39, 775): 154, (39, 789): 165, (39, 829): 237, (39, 862): 101, (39, 883): 137, (39, 888): 126, (39, 914): 132, (39, 919): 122, (39, 937): 215, (39, 947): 114, (39, 956): 130, (39, 966): 128, (71, 120): 112, (71, 145): 102, (71, 177): 125, (71, 183): 82, (71, 205): 125, (71, 217): 110, (71, 283): 474, (71, 354): 484, (71, 362): 91, (71, 368): 204, (71, 401): 75, (71, 419): 119, (71, 438): 359, (71, 460): 110, (71, 470): 79, (71, 494): 118, (71, 529): 304, (71, 538): 76, (71, 541): 79, (71, 682): 78, (71, 684): 449, (71, 692): 124, (71, 720): 91, (71, 722): 135, (71, 766): 673, (71, 775): 104, (71, 789): 114, (71, 829): 166, (71, 862): 71, (71, 883): 106, (71, 888): 75, (71, 914): 177, (71, 919): 107, (71, 937): 485, (71, 947): 118, (71, 956): 88, (71, 966): 84, (120, 145): 154, (120, 177): 212, (120, 183): 137, (120, 205): 373, (120, 217): 193, (120, 283): 114, (120, 354): 440, (120, 362): 139, (120, 368): 326, (120, 401): 118, (120, 419): 177, (120, 438): 470, (120, 460): 137, (120, 470): 133, (120, 494): 180, (120, 529): 237, (120, 538): 369, (120, 541): 128, (120, 682): 136, (120, 684): 167, (120, 692): 152, (120, 720): 220, (120, 722): 185, (120, 766): 457, (120, 775): 122, (120, 789): 154, (120, 829): 575, (120, 862): 665, (120, 883): 239, (120, 888): 137, (120, 914): 207, (120, 919): 133, (120, 937): 134, (120, 947): 112, (120, 956): 119, (120, 966): 135, (145, 177): 346, (145, 183): 205, (145, 205): 103, (145, 217): 316, (145, 283): 368, (145, 354): 311, (145, 362): 172, (145, 368): 438, (145, 401): 188, (145, 419): 631, (145, 438): 153, (145, 460): 129, (145, 470): 135, (145, 494): 348, (145, 529): 217, (145, 538): 114, (145, 541): 217, (145, 682): 307, (145, 684): 154, (145, 692): 159, (145, 720): 102, (145, 722): 164, (145, 766): 192, (145, 775): 105, (145, 789): 152, (145, 829): 246, (145, 862): 114, (145, 883): 142, (145, 888): 243, (145, 914): 223, (145, 919): 119, (145, 937): 335, (145, 947): 109, (145, 956): 106, (145, 966): 120, (177, 183): 108, (177, 205): 209, (177, 217): 288, (177, 283): 138, (177, 354): 201, (177, 362): 128, (177, 368): 275, (177, 401): 102, (177, 419): 156, (177, 438): 147, (177, 460): 134, (177, 470): 134, (177, 494): 177, (177, 529): 245, (177, 538): 131, (177, 541): 140, (177, 682): 126, (177, 684): 160, (177, 692): 428, (177, 720): 133, (177, 722): 174, (177, 766): 204, (177, 775): 510, (177, 789): 150, (177, 829): 355, (177, 862): 130, (177, 883): 272, (177, 888): 119, (177, 914): 268, (177, 919): 141, (177, 937): 168, (177, 947): 600, (177, 956): 114, (177, 966): 141, (183, 205): 102, (183, 217): 189, (183, 283): 433, (183, 354): 132, (183, 362): 111, (183, 368): 239, (183, 401): 107, (183, 419): 233, (183, 438): 117, (183, 460): 274, (183, 470): 93, (183, 494): 140, (183, 529): 165, (183, 538): 101, (183, 541): 529, (183, 682): 107, (183, 684): 156, (183, 692): 114, (183, 720): 473, (183, 722): 137, (183, 766): 608, (183, 775): 94, (183, 789): 131, (183, 829): 207, (183, 862): 115, (183, 883): 148, (183, 888): 94, (183, 914): 113, (183, 919): 106, (183, 937): 169, (183, 947): 109, (183, 956): 102, (183, 966): 104, (205, 217): 283, (205, 283): 95, (205, 354): 146, (205, 362): 116, (205, 368): 421, (205, 401): 313, (205, 419): 142, (205, 438): 114, (205, 460): 362, (205, 470): 187, (205, 494): 219, (205, 529): 554, (205, 538): 334, (205, 541): 96, (205, 682): 101, (205, 684): 198, (205, 692): 118, (205, 720): 105, (205, 722): 152, (205, 766): 356, (205, 775): 84, (205, 789): 156, (205, 829): 419, (205, 862): 82, (205, 883): 422, (205, 888): 96, (205, 914): 98, (205, 919): 176, (205, 937): 145, (205, 947): 88, (205, 956): 96, (205, 966): 103, (217, 283): 926, (217, 354): 280, (217, 362): 159, (217, 368): 303, (217, 401): 169, (217, 419): 344, (217, 438): 186, (217, 460): 172, (217, 470): 144, (217, 494): 183, (217, 529): 403, (217, 538): 136, (217, 541): 145, (217, 682): 146, (217, 684): 198, (217, 692): 184, (217, 720): 154, (217, 722): 498, (217, 766): 276, (217, 775): 156, (217, 789): 186, (217, 829): 275, (217, 862): 135, (217, 883): 262, (217, 888): 539, (217, 914): 272, (217, 919): 170, (217, 937): 236, (217, 947): 716, (217, 956): 162, (217, 966): 163, (283, 354): 134, (283, 362): 114, (283, 368): 226, (283, 401): 108, (283, 419): 126, (283, 438): 165, (283, 460): 120, (283, 470): 154, (283, 494): 139, (283, 529): 180, (283, 538): 131, (283, 541): 109, (283, 682): 104, (283, 684): 308, (283, 692): 203, (283, 720): 101, (283, 722): 165, (283, 766): 263, (283, 775): 92, (283, 789): 128, (283, 829): 220, (283, 862): 272, (283, 883): 167, (283, 888): 145, (283, 914): 115, (283, 919): 266, (283, 937): 151, (283, 947): 97, (283, 956): 148, (283, 966): 161, (354, 362): 178, (354, 368): 319, (354, 401): 161, (354, 419): 263, (354, 438): 204, (354, 460): 244, (354, 470): 332, (354, 494): 189, (354, 529): 301, (354, 538): 163, (354, 541): 159, (354, 682): 156, (354, 684): 219, (354, 692): 193, (354, 720): 144, (354, 722): 566, (354, 766): 329, (354, 775): 305, (354, 789): 182, (354, 829): 259, (354, 862): 159, (354, 883): 202, (354, 888): 374, (354, 914): 169, (354, 919): 173, (354, 937): 194, (354, 947): 144, (354, 956): 586, (354, 966): 340, (362, 368): 240, (362, 401): 145, (362, 419): 297, (362, 438): 329, (362, 460): 365, (362, 470): 112, (362, 494): 147, (362, 529): 218, (362, 538): 120, (362, 541): 103, (362, 682): 134, (362, 684): 423, (362, 692): 159, (362, 720): 135, (362, 722): 428, (362, 766): 210, (362, 775): 109, (362, 789): 140, (362, 829): 216, (362, 862): 94, (362, 883): 168, (362, 888): 112, (362, 914): 341, (362, 919): 221, (362, 937): 135, (362, 947): 94, (362, 956): 107, (362, 966): 124, (368, 401): 214, (368, 419): 355, (368, 438): 518, (368, 460): 502, (368, 470): 581, (368, 494): 860, (368, 529): 640, (368, 538): 479, (368, 541): 189, (368, 682): 1193, (368, 684): 387, (368, 692): 928, (368, 720): 408, (368, 722): 392, (368, 766): 504, (368, 775): 196, (368, 789): 264, (368, 829): 1194, (368, 862): 238, (368, 883): 290, (368, 888): 224, (368, 914): 312, (368, 919): 223, (368, 937): 701, (368, 947): 442, (368, 956): 292, (368, 966): 488, (401, 419): 281, (401, 438): 228, (401, 460): 554, (401, 470): 111, (401, 494): 146, (401, 529): 172, (401, 538): 83, (401, 541): 99, (401, 682): 217, (401, 684): 467, (401, 692): 128, (401, 720): 92, (401, 722): 141, (401, 766): 192, (401, 775): 110, (401, 789): 262, (401, 829): 169, (401, 862): 93, (401, 883): 378, (401, 888): 185, (401, 914): 110, (401, 919): 113, (401, 937): 148, (401, 947): 98, (401, 956): 98, (401, 966): 100, (419, 438): 153, (419, 460): 323, (419, 470): 158, (419, 494): 176, (419, 529): 252, (419, 538): 122, (419, 541): 145, (419, 682): 255, (419, 684): 155, (419, 692): 196, (419, 720): 146, (419, 722): 366, (419, 766): 238, (419, 775): 114, (419, 789): 177, (419, 829): 259, (419, 862): 131, (419, 883): 178, (419, 888): 205, (419, 914): 283, (419, 919): 285, (419, 937): 160, (419, 947): 142, (419, 956): 343, (419, 966): 154, (438, 460): 232, (438, 470): 330, (438, 494): 162, (438, 529): 327, (438, 538): 104, (438, 541): 100, (438, 682): 183, (438, 684): 825, (438, 692): 177, (438, 720): 197, (438, 722): 186, (438, 766): 431, (438, 775): 129, (438, 789): 149, (438, 829): 205, (438, 862): 107, (438, 883): 154, (438, 888): 122, (438, 914): 151, (438, 919): 110, (438, 937): 159, (438, 947): 136, (438, 956): 141, (438, 966): 676, (460, 470): 133, (460, 494): 155, (460, 529): 466, (460, 538): 350, (460, 541): 98, (460, 682): 186, (460, 684): 619, (460, 692): 154, (460, 720): 124, (460, 722): 193, (460, 766): 201, (460, 775): 118, (460, 789): 140, (460, 829): 211, (460, 862): 112, (460, 883): 154, (460, 888): 99, (460, 914): 111, (460, 919): 591, (460, 937): 156, (460, 947): 124, (460, 956): 119, (460, 966): 129, (470, 494): 337, (470, 529): 221, (470, 538): 98, (470, 541): 94, (470, 682): 110, (470, 684): 164, (470, 692): 118, (470, 720): 115, (470, 722): 152, (470, 766): 167, (470, 775): 122, (470, 789): 141, (470, 829): 197, (470, 862): 106, (470, 883): 134, (470, 888): 105, (470, 914): 133, (470, 919): 109, (470, 937): 108, (470, 947): 105, (470, 956): 107, (470, 966): 270, (494, 529): 225, (494, 538): 132, (494, 541): 694, (494, 682): 714, (494, 684): 208, (494, 692): 162, (494, 720): 291, (494, 722): 226, (494, 766): 227, (494, 775): 139, (494, 789): 143, (494, 829): 267, (494, 862): 720, (494, 883): 671, (494, 888): 112, (494, 914): 144, (494, 919): 154, (494, 937): 376, (494, 947): 146, (494, 956): 129, (494, 966): 161, (529, 538): 303, (529, 541): 395, (529, 682): 203, (529, 684): 334, (529, 692): 271, (529, 720): 442, (529, 722): 283, (529, 766): 317, (529, 775): 197, (529, 789): 229, (529, 829): 584, (529, 862): 251, (529, 883): 449, (529, 888): 182, (529, 914): 202, (529, 919): 191, (529, 937): 491, (529, 947): 422, (529, 956): 273, (529, 966): 198, (538, 541): 92, (538, 682): 114, (538, 684): 298, (538, 692): 165, (538, 720): 97, (538, 722): 152, (538, 766): 154, (538, 775): 130, (538, 789): 116, (538, 829): 188, (538, 862): 98, (538, 883): 128, (538, 888): 82, (538, 914): 114, (538, 919): 133, (538, 937): 390, (538, 947): 116, (538, 956): 227, (538, 966): 107, (541, 682): 106, (541, 684): 148, (541, 692): 108, (541, 720): 99, (541, 722): 143, (541, 766): 182, (541, 775): 91, (541, 789): 111, (541, 829): 177, (541, 862): 102, (541, 883): 131, (541, 888): 95, (541, 914): 87, (541, 919): 100, (541, 937): 458, (541, 947): 365, (541, 956): 570, (541, 966): 85, (682, 684): 139, (682, 692): 140, (682, 720): 157, (682, 722): 341, (682, 766): 164, (682, 775): 94, (682, 789): 122, (682, 829): 309, (682, 862): 92, (682, 883): 400, (682, 888): 230, (682, 914): 124, (682, 919): 110, (682, 937): 408, (682, 947): 96, (682, 956): 144, (682, 966): 121, (684, 692): 166, (684, 720): 146, (684, 722): 443, (684, 766): 613, (684, 775): 245, (684, 789): 246, (684, 829): 349, (684, 862): 310, (684, 883): 234, (684, 888): 144, (684, 914): 165, (684, 919): 131, (684, 937): 186, (684, 947): 170, (684, 956): 121, (684, 966): 141, (692, 720): 101, (692, 722): 210, (692, 766): 535, (692, 775): 126, (692, 789): 433, (692, 829): 377, (692, 862): 133, (692, 883): 172, (692, 888): 126, (692, 914): 137, (692, 919): 139, (692, 937): 143, (692, 947): 109, (692, 956): 147, (692, 966): 444, (720, 722): 253, (720, 766): 307, (720, 775): 99, (720, 789): 122, (720, 829): 193, (720, 862): 177, (720, 883): 129, (720, 888): 112, (720, 914): 205, (720, 919): 112, (720, 937): 129, (720, 947): 207, (720, 956): 97, (720, 966): 96, (722, 766): 328, (722, 775): 157, (722, 789): 180, (722, 829): 294, (722, 862): 158, (722, 883): 194, (722, 888): 139, (722, 914): 173, (722, 919): 162, (722, 937): 181, (722, 947): 144, (722, 956): 237, (722, 966): 349, (766, 775): 174, (766, 789): 224, (766, 829): 321, (766, 862): 175, (766, 883): 348, (766, 888): 168, (766, 914): 369, (766, 919): 183, (766, 937): 217, (766, 947): 165, (766, 956): 252, (766, 966): 224, (775, 789): 101, (775, 829): 184, (775, 862): 205, (775, 883): 164, (775, 888): 107, (775, 914): 130, (775, 919): 104, (775, 937): 138, (775, 947): 127, (775, 956): 102, (775, 966): 104, (789, 829): 1194, (789, 862): 206, (789, 883): 146, (789, 888): 115, (789, 914): 270, (789, 919): 328, (789, 937): 147, (789, 947): 184, (789, 956): 114, (789, 966): 134, (829, 862): 184, (829, 883): 250, (829, 888): 163, (829, 914): 206, (829, 919): 185, (829, 937): 233, (829, 947): 178, (829, 956): 183, (829, 966): 191, (862, 883): 137, (862, 888): 85, (862, 914): 104, (862, 919): 105, (862, 937): 116, (862, 947): 69, (862, 956): 102, (862, 966): 96, (883, 888): 120, (883, 914): 149, (883, 919): 163, (883, 937): 153, (883, 947): 138, (883, 956): 136, (883, 966): 129, (888, 914): 114, (888, 919): 93, (888, 937): 122, (888, 947): 96, (888, 956): 137, (888, 966): 100, (914, 919): 375, (914, 937): 138, (914, 947): 98, (914, 956): 105, (914, 966): 144, (919, 937): 322, (919, 947): 100, (919, 956): 102, (919, 966): 121, (937, 947): 367, (937, 956): 434, (937, 966): 129, (947, 956): 137, (947, 966): 97, (956, 966): 118}\n"
          ]
        }
      ]
    },
    {
      "cell_type": "code",
      "source": [
        "#filter doubletons\n",
        "doubletons_filtered = filter_itons(doubletons,300)\n",
        "print(len(doubletons_filtered))"
      ],
      "metadata": {
        "id": "5D5XO-oVa2Y4",
        "colab": {
          "base_uri": "https://localhost:8080/"
        },
        "outputId": "344d196f-e32f-43de-ac9f-4aca641f457f"
      },
      "execution_count": null,
      "outputs": [
        {
          "output_type": "stream",
          "name": "stdout",
          "text": [
            "151\n"
          ]
        }
      ]
    },
    {
      "cell_type": "markdown",
      "source": [
        "#### From doubletons to tripletons"
      ],
      "metadata": {
        "id": "do24pBWC8EVP"
      }
    },
    {
      "cell_type": "code",
      "source": [
        "from itertools import combinations\n",
        "\n",
        "def getCandidatePairs(doubletons_filtered):\n",
        "  flatList = []\n",
        "  tripletonCandidate = []\n",
        "  for row in doubletons_filtered: flatList.extend(row)\n",
        "  flatList = combinations(set(flatList),3)\n",
        "  flatList = [value for value in flatList]\n",
        "  print(len(flatList))\n",
        "  for tripleton in flatList:\n",
        "    count = 0\n",
        "    tuple1 = set((tripleton[0],tripleton[1]))\n",
        "    tuple2 = set((tripleton[0],tripleton[2]))\n",
        "    tuple3 = set((tripleton[1],tripleton[2]))\n",
        "    for doubleton in doubletons_filtered:\n",
        "      if len(tuple1.intersection(doubleton)) == 2 or len(tuple2.intersection(doubleton)) == 2 or len(tuple3.intersection(doubleton)) == 2:\n",
        "        count +=1\n",
        "    if count == 3: tripletonCandidate.append(tripleton)\n",
        "  return tripletonCandidate\n",
        "\n",
        "candidateTripletons = getCandidatePairs(doubletons_filtered)"
      ],
      "metadata": {
        "id": "GpR01qMcQ7gW",
        "colab": {
          "base_uri": "https://localhost:8080/"
        },
        "outputId": "d1fb43df-7d80-4a20-a1df-9e2d9144e54c"
      },
      "execution_count": null,
      "outputs": [
        {
          "output_type": "stream",
          "name": "stdout",
          "text": [
            "9880\n"
          ]
        }
      ]
    },
    {
      "cell_type": "code",
      "source": [
        "%%time\n",
        "threshhold = 300\n",
        "tripletons = dict()\n",
        "\n",
        "for value in candidateTripletons:\n",
        "  for transaction in transactions:\n",
        "    l = set(value).intersection(transaction)\n",
        "    if len(l) == 3:\n",
        "      #print(\"yes\")\n",
        "      if value not in tripletons:\n",
        "        tripletons[value] = 1\n",
        "      else:\n",
        "        tripletons[value] = tripletons[value] + 1\n",
        "print(len(tripletons),tripletons)"
      ],
      "metadata": {
        "colab": {
          "base_uri": "https://localhost:8080/"
        },
        "id": "zTaKeJRoXk_h",
        "outputId": "2fbfead2-2413-4588-8a4f-e21671916b55"
      },
      "execution_count": null,
      "outputs": [
        {
          "output_type": "stream",
          "name": "stdout",
          "text": [
            "140 {(401, 684, 460): 44, (401, 460, 205): 31, (401, 205, 883): 208, (145, 283, 39): 265, (145, 283, 217): 38, (145, 419, 39): 352, (145, 419, 217): 37, (145, 419, 368): 42, (145, 39, 354): 24, (145, 39, 368): 56, (145, 937, 682): 213, (145, 937, 494): 210, (145, 937, 368): 215, (145, 682, 494): 220, (145, 682, 368): 232, (145, 217, 368): 19, (145, 354, 368): 20, (145, 494, 368): 219, (529, 538, 937): 26, (529, 538, 460): 25, (529, 538, 205): 23, (529, 538, 368): 33, (529, 541, 937): 254, (529, 541, 947): 243, (529, 937, 947): 243, (529, 937, 71): 34, (529, 937, 368): 47, (529, 684, 438): 36, (529, 684, 829): 22, (529, 684, 71): 32, (529, 684, 460): 44, (529, 684, 368): 33, (529, 684, 766): 40, (529, 947, 217): 38, (529, 947, 368): 30, (529, 438, 71): 21, (529, 438, 368): 37, (529, 438, 766): 21, (529, 829, 205): 239, (529, 829, 368): 75, (529, 829, 766): 21, (529, 71, 354): 21, (529, 71, 766): 37, (529, 460, 205): 31, (529, 460, 368): 41, (529, 205, 368): 31, (529, 205, 883): 79, (529, 205, 766): 25, (529, 720, 368): 181, (529, 720, 766): 28, (529, 217, 368): 24, (529, 354, 368): 21, (529, 354, 766): 14, (529, 368, 766): 32, (529, 883, 766): 17, (914, 368, 766): 20, (789, 692, 829): 50, (538, 937, 368): 42, (538, 460, 205): 219, (538, 460, 368): 231, (538, 205, 368): 219, (538, 205, 120): 18, (538, 368, 120): 18, (283, 684, 71): 21, (541, 937, 947): 248, (541, 937, 956): 29, (541, 937, 494): 29, (32, 937, 947): 43, (32, 937, 494): 22, (419, 39, 722): 24, (419, 39, 368): 37, (419, 460, 368): 31, (419, 722, 217): 26, (419, 722, 368): 27, (419, 217, 368): 17, (39, 722, 354): 145, (39, 722, 368): 33, (39, 470, 354): 23, (39, 470, 368): 332, (39, 354, 368): 26, (937, 682, 494): 224, (937, 682, 368): 241, (937, 947, 368): 33, (937, 494, 368): 228, (682, 829, 368): 100, (682, 722, 368): 64, (682, 494, 368): 591, (682, 494, 883): 36, (684, 438, 71): 263, (684, 438, 362): 31, (684, 438, 368): 56, (684, 438, 766): 264, (684, 829, 368): 116, (684, 829, 766): 27, (684, 71, 766): 259, (684, 460, 362): 40, (684, 460, 368): 54, (684, 722, 362): 259, (684, 722, 368): 24, (684, 722, 766): 29, (684, 368, 766): 39, (177, 692, 829): 27, (947, 217, 368): 45, (692, 829, 368): 71, (692, 829, 766): 17, (692, 966, 368): 57, (692, 368, 766): 57, (438, 966, 368): 275, (438, 71, 766): 255, (438, 470, 368): 36, (438, 368, 120): 23, (438, 368, 766): 23, (438, 120, 766): 30, (183, 720, 766): 31, (829, 205, 368): 43, (829, 205, 120): 30, (829, 205, 766): 22, (829, 368, 120): 63, (829, 368, 766): 68, (829, 120, 766): 33, (966, 722, 354): 32, (966, 722, 368): 27, (966, 354, 368): 31, (71, 354, 766): 31, (460, 205, 368): 219, (205, 368, 120): 34, (205, 368, 766): 25, (205, 883, 766): 29, (205, 120, 766): 25, (720, 368, 766): 22, (722, 217, 368): 21, (722, 354, 368): 35, (722, 354, 766): 30, (722, 368, 766): 19, (470, 354, 368): 35, (470, 494, 368): 37, (354, 368, 120): 21, (354, 368, 766): 25, (354, 120, 766): 26, (368, 120, 766): 27}\n",
            "CPU times: user 11.6 s, sys: 32.7 ms, total: 11.7 s\n",
            "Wall time: 11.7 s\n"
          ]
        }
      ]
    },
    {
      "cell_type": "code",
      "source": [
        "tripletons_filtered = filter_itons(tripletons,300)\n",
        "print(len(tripletons_filtered))"
      ],
      "metadata": {
        "colab": {
          "base_uri": "https://localhost:8080/"
        },
        "id": "7PkfBVcRa6PM",
        "outputId": "a23aa9d3-6773-442c-e1e9-629ed066d776"
      },
      "execution_count": null,
      "outputs": [
        {
          "output_type": "stream",
          "name": "stdout",
          "text": [
            "3\n"
          ]
        }
      ]
    },
    {
      "cell_type": "markdown",
      "source": [
        "### Old Version --> Solved through possible combinations but not a priori\n",
        "First steps can be done in seconds for this dataset at every threshold"
      ],
      "metadata": {
        "id": "cdirhiQu8iDx"
      }
    },
    {
      "cell_type": "code",
      "source": [
        "singletons = get_singletons(transactions)\n",
        "singletons_filtered = filter_itons(singletons, 500)"
      ],
      "metadata": {
        "id": "xVAG0bh4_qBr"
      },
      "execution_count": null,
      "outputs": []
    },
    {
      "cell_type": "code",
      "source": [
        "%%time\n",
        "threshhold = 500\n",
        "doubletons = dict()\n",
        "for transaction in transactions:\n",
        "  # combinations\n",
        "  # this works, since every transcation is ordered:\n",
        "  for idx_item1 in range(len(transaction)):\n",
        "    for idx_item2 in range(idx_item1+1,len(transaction)):\n",
        "      #check frequency and prune\n",
        "      #if the items are not frequent, they are considerd not to be a candidate pair\n",
        "      if singletons[transaction[idx_item1]] > threshhold and singletons[transaction[idx_item2]] > threshhold:\n",
        "        #create doubleton\n",
        "        doubleton = (transaction[idx_item1],transaction[idx_item2])\n",
        "        #Create new entry in doubletons dictionary\n",
        "        if doubleton not in doubletons:\n",
        "          doubletons[doubleton] = 1\n",
        "        #If already exists, increment by 1\n",
        "        else:\n",
        "          doubletons[doubleton] =  doubletons[doubleton] + 1\n"
      ],
      "metadata": {
        "colab": {
          "base_uri": "https://localhost:8080/"
        },
        "id": "mjLLRtfsgalF",
        "outputId": "3c4c1442-a046-411e-eaa4-2b7cfbe7dc81"
      },
      "execution_count": null,
      "outputs": [
        {
          "output_type": "stream",
          "name": "stdout",
          "text": [
            "CPU times: user 7.56 s, sys: 19.9 ms, total: 7.58 s\n",
            "Wall time: 7.69 s\n"
          ]
        }
      ]
    },
    {
      "cell_type": "code",
      "source": [
        "doubletons_filtered = filter_itons(doubletons,500)"
      ],
      "metadata": {
        "id": "suYDIq-x898q"
      },
      "execution_count": null,
      "outputs": []
    },
    {
      "cell_type": "markdown",
      "source": [
        "### Tripletons"
      ],
      "metadata": {
        "id": "GDRC8q47YbAK"
      }
    },
    {
      "cell_type": "code",
      "source": [
        "%%time\n",
        "threshhold = 500\n",
        "tripletons = dict()\n",
        "for transaction in transactions:\n",
        "  #print(transaction)\n",
        "  # combinations\n",
        "  # this works, since every transcation is ordered:\n",
        "  for idx_item1 in range(len(transaction)):\n",
        "    start_number = transaction[idx_item1]\n",
        "    for idx_item2 in range(idx_item1+1,len(transaction)):\n",
        "      for idx_item3 in range(idx_item2+1, len(transaction)):\n",
        "        #check frequency and prune\n",
        "        #if the items are not frequent, they are considerd not to be a candidate pair\n",
        "        #print(transaction,idx_item2)\n",
        "        #print(transaction[idx_item1], transaction[idx_item2])\n",
        "        double1 = tuple((transaction[idx_item1], transaction[idx_item2]))\n",
        "        double2 = tuple((transaction[idx_item1], transaction[idx_item3]))\n",
        "        double3 = tuple((transaction[idx_item2], transaction[idx_item3]))\n",
        "        #print(start_number,double)\n",
        "        #print(\"Item1\",transaction[idx_item1],\"item2\",transaction[idx_item2:idx_item2+2])\n",
        "        #print(double)\n",
        "        if double1 in doubletons_filtered and double2 in doubletons_filtered and double3 in doubletons_filtered:\n",
        "          tripleton = (start_number,transaction[idx_item2],transaction[idx_item3])\n",
        "          #print(transaction, tripleton)\n",
        "          if tripleton not in tripletons:\n",
        "            tripletons[tripleton] = 1\n",
        "          else:\n",
        "            tripletons[tripleton] = tripletons[tripleton] + 1\n",
        "\n",
        "print(len(tripletons),tripletons)"
      ],
      "metadata": {
        "colab": {
          "base_uri": "https://localhost:8080/"
        },
        "id": "JgfOtgcqlBR7",
        "outputId": "00333f34-1091-4bba-ef15-78167ad2d42b"
      },
      "execution_count": null,
      "outputs": [
        {
          "output_type": "stream",
          "name": "stdout",
          "text": [
            "170 {(39, 704, 825): 1035, (708, 883, 978): 542, (571, 623, 795): 704, (571, 623, 853): 713, (571, 795, 853): 715, (597, 766, 960): 441, (623, 795, 853): 720, (392, 461, 569): 459, (392, 461, 862): 466, (392, 569, 801): 470, (392, 569, 862): 475, (392, 801, 862): 637, (461, 569, 862): 462, (569, 801, 862): 472, (350, 411, 572): 565, (350, 411, 579): 562, (350, 411, 803): 573, (350, 411, 842): 566, (350, 572, 579): 557, (350, 572, 803): 563, (350, 572, 842): 561, (350, 579, 803): 565, (350, 579, 842): 562, (350, 803, 842): 570, (411, 572, 579): 560, (411, 572, 803): 567, (411, 572, 842): 561, (411, 579, 803): 573, (411, 579, 842): 568, (411, 803, 842): 575, (572, 579, 803): 559, (572, 579, 842): 558, (572, 803, 842): 562, (579, 803, 842): 570, (208, 290, 458): 751, (208, 290, 888): 764, (208, 290, 969): 764, (208, 458, 888): 757, (208, 458, 969): 755, (208, 888, 969): 771, (290, 458, 888): 750, (290, 458, 969): 748, (290, 888, 969): 765, (458, 888, 969): 756, (192, 487, 638): 495, (192, 487, 888): 496, (192, 487, 935): 500, (192, 638, 888): 495, (192, 638, 935): 504, (192, 888, 935): 505, (487, 638, 888): 495, (487, 638, 935): 496, (487, 888, 935): 496, (631, 735, 780): 492, (638, 888, 935): 495, (242, 471, 758): 607, (346, 561, 888): 605, (242, 392, 489): 325, (354, 583, 617): 586, (158, 354, 583): 595, (158, 354, 617): 597, (158, 583, 617): 590, (21, 793, 857): 695, (529, 598, 782): 737, (143, 460, 481): 479, (143, 460, 919): 464, (143, 481, 919): 491, (460, 481, 919): 461, (214, 354, 956): 437, (72, 183, 541): 437, (494, 541, 631): 554, (494, 541, 963): 549, (494, 631, 963): 546, (541, 631, 963): 540, (460, 684, 923): 430, (33, 217, 283): 793, (33, 217, 346): 802, (33, 217, 515): 789, (33, 283, 346): 802, (33, 283, 515): 786, (33, 346, 515): 797, (217, 283, 346): 827, (217, 283, 515): 799, (217, 346, 515): 809, (283, 346, 515): 806, (120, 593, 862): 572, (120, 593, 895): 579, (120, 862, 895): 571, (593, 862, 895): 573, (27, 58, 354): 446, (75, 438, 684): 672, (21, 413, 793): 700, (21, 413, 857): 688, (413, 793, 857): 691, (70, 684, 765): 695, (70, 684, 819): 700, (70, 765, 819): 698, (684, 765, 819): 699, (217, 346, 561): 428, (217, 346, 888): 438, (217, 561, 888): 421, (217, 487, 510): 447, (470, 534, 995): 667, (12, 120, 132): 421, (105, 494, 815): 552, (105, 494, 862): 549, (105, 494, 944): 557, (105, 815, 862): 547, (105, 815, 944): 566, (105, 862, 944): 559, (120, 132, 638): 416, (494, 815, 862): 546, (494, 815, 944): 553, (494, 862, 944): 550, (815, 862, 944): 552, (17, 541, 956): 445, (236, 541, 956): 441, (57, 368, 937): 432, (368, 494, 682): 591, (90, 120, 309): 466, (90, 120, 510): 447, (90, 120, 620): 460, (90, 120, 793): 454, (90, 309, 620): 470, (90, 309, 793): 471, (90, 510, 620): 452, (90, 510, 793): 452, (90, 620, 793): 464, (120, 309, 620): 460, (120, 309, 793): 459, (120, 510, 620): 443, (120, 510, 793): 442, (120, 620, 793): 455, (309, 620, 793): 467, (510, 620, 793): 454, (6, 32, 472): 545, (12, 227, 390): 607, (12, 227, 722): 609, (12, 390, 722): 629, (227, 390, 722): 907, (217, 546, 661): 585, (217, 546, 923): 576, (217, 546, 947): 577, (217, 661, 923): 584, (217, 661, 947): 583, (217, 923, 947): 583, (546, 661, 923): 592, (546, 661, 947): 592, (546, 923, 947): 584, (661, 923, 947): 591, (69, 285, 871): 465, (21, 57, 362): 454, (21, 57, 918): 453, (21, 362, 918): 456, (38, 362, 918): 461, (57, 362, 918): 457, (793, 914, 984): 472, (39, 145, 419): 352, (32, 285, 947): 609, (296, 368, 829): 501, (368, 529, 829): 75, (54, 944, 998): 578, (471, 663, 871): 568, (368, 692, 766): 57, (4, 373, 716): 531, (185, 471, 678): 657, (185, 471, 960): 656, (185, 678, 960): 652, (471, 678, 960): 658, (217, 487, 888): 43}\n",
            "CPU times: user 19.3 s, sys: 40.9 ms, total: 19.3 s\n",
            "Wall time: 19.4 s\n"
          ]
        }
      ]
    },
    {
      "cell_type": "code",
      "source": [
        "tripletons_filtered = filter_itons(tripletons,500)\n",
        "print(len(tripletons_filtered))"
      ],
      "metadata": {
        "colab": {
          "base_uri": "https://localhost:8080/"
        },
        "id": "Z-MtdhVTFHqt",
        "outputId": "5f371330-70cc-427a-87a9-76eab4abddc1"
      },
      "execution_count": null,
      "outputs": [
        {
          "output_type": "stream",
          "name": "stdout",
          "text": [
            "110\n"
          ]
        }
      ]
    },
    {
      "cell_type": "markdown",
      "source": [
        "# **II Section : Calculate Confidence**"
      ],
      "metadata": {
        "id": "eX2xN5YsG-Na"
      }
    },
    {
      "cell_type": "code",
      "source": [
        "prueba_tripletons = dict()\n",
        "for key,value in tripletons_filtered.items():\n",
        "  prueba_tripletons[frozenset(key)] = value\n",
        "prueba_doubletons = dict()\n",
        "for key,value in doubletons_filtered.items():\n",
        "  prueba_doubletons[frozenset(key)] = value\n"
      ],
      "metadata": {
        "id": "6qb7mKWgryFy"
      },
      "execution_count": null,
      "outputs": []
    },
    {
      "cell_type": "code",
      "source": [
        "def get_association_rules_doubletons(conf_level):\n",
        "  association_rules_doubletons = dict()\n",
        "  for doubleton in doubletons_filtered.keys():\n",
        "    item1 = doubleton[0]\n",
        "    item2 = doubleton[1]\n",
        "    support_union = doubletons_filtered[doubleton]\n",
        "    support_item1 = singletons_filtered[item1]\n",
        "    support_item2 = singletons_filtered[item2]\n",
        "    confidence1 = support_union/support_item1\n",
        "    confidence2 = support_union/support_item2\n",
        "    if confidence1 > conf_level:\n",
        "      association_rules_doubletons[item1] = item2\n",
        "    if confidence2 > conf_level:\n",
        "      association_rules_doubletons[item2] = item1\n",
        "  return association_rules_doubletons\n",
        "\n",
        "association_rules_doubletons = get_association_rules_doubletons(0.8)\n",
        "print(association_rules_doubletons)"
      ],
      "metadata": {
        "colab": {
          "base_uri": "https://localhost:8080/"
        },
        "id": "RcWrITp36bax",
        "outputId": "7ac7a862-ddb7-4899-fa5a-2bc1cb05bff1"
      },
      "execution_count": null,
      "outputs": [
        {
          "output_type": "stream",
          "name": "stdout",
          "text": [
            "{969: 888, 842: 803, 626: 496, 801: 862}\n"
          ]
        }
      ]
    },
    {
      "cell_type": "code",
      "source": [
        "def get_association_rules_tripletons1to2(conf_level):\n",
        "  association_rules_tripletons = dict()\n",
        "  for tripleton in tripletons_filtered.keys():\n",
        "    support_union = tripletons_filtered[tripleton]\n",
        "    item1 = tripleton[0]\n",
        "    item2 = tripleton[1]\n",
        "    item3 = tripleton[2]\n",
        "    support_item1 = singletons_filtered[item1]\n",
        "    support_item2 = singletons_filtered[item2]\n",
        "    support_item3 = singletons_filtered[item3]\n",
        "\n",
        "    # Rule1: Item1 --> (Item2, Item3)\n",
        "    confidence_rule1 = support_union/support_item1\n",
        "    if confidence_rule1 > conf_level:\n",
        "      association_rules_tripletons[item1] = [item2,item3]\n",
        "\n",
        "    # Rule2: Item2 --> (Item1, Item3)\n",
        "    confidence_rule2 = support_union/support_item2\n",
        "    if confidence_rule2 > conf_level:\n",
        "      association_rules_tripletons[item2] = [item1,item3]\n",
        "\n",
        "    # Rule3: Item3 --> (Item1, Item2)\n",
        "    confidence_rule3 = support_union/support_item3\n",
        "    if confidence_rule1 > conf_level:\n",
        "      association_rules_tripletons[item3] = [item1,item2]\n",
        "\n",
        "\n",
        "  return association_rules_tripletons\n",
        "\n",
        "association_rules_tripletons_1to2 = get_association_rules_tripletons1to2(0.4)\n",
        "print(association_rules_tripletons_1to2)"
      ],
      "metadata": {
        "colab": {
          "base_uri": "https://localhost:8080/"
        },
        "id": "2PECd8A2_Aqh",
        "outputId": "618206e7-3e0b-4a3e-b431-7b0b2495a2cb"
      },
      "execution_count": null,
      "outputs": [
        {
          "output_type": "stream",
          "name": "stdout",
          "text": [
            "{33: [346, 515], 283: [33, 217], 346: [33, 283], 515: [33, 346], 704: [39, 825], 765: [684, 819], 105: [862, 944], 815: [862, 944], 862: [105, 815], 944: [815, 862], 158: [583, 617], 583: [354, 617], 617: [158, 583], 185: [678, 960], 678: [471, 960], 960: [185, 678], 208: [888, 969], 290: [888, 969], 458: [888, 969], 888: [290, 458], 969: [458, 888], 546: [923, 947], 227: [390, 722], 722: [227, 390], 801: [392, 862], 534: [470, 995], 923: [546, 661], 947: [546, 923], 708: [883, 978], 978: [708, 883]}\n"
          ]
        }
      ]
    },
    {
      "cell_type": "code",
      "source": [
        "def get_association_rules_tripletons2to1(conf_level):\n",
        "  association_rules_tripletons_2to1 = dict()\n",
        "  for tripleton in tripletons_filtered.keys():\n",
        "    support_union = tripletons_filtered[tripleton]\n",
        "    item1 = tripleton[0]\n",
        "    item2 = tripleton[1]\n",
        "    item3 = tripleton[2]\n",
        "    support_item1 = singletons_filtered[item1]\n",
        "    support_item2 = singletons_filtered[item2]\n",
        "    support_item3 = singletons_filtered[item3]\n",
        "\n",
        "    # Rule1: (Item1, Item2) --> Item3\n",
        "    key1 = frozenset([item1,item2])\n",
        "    confidence_rule1 = support_union/ prueba_doubletons[key1]\n",
        "    if confidence_rule1 > conf_level:\n",
        "      association_rules_tripletons_2to1[key1] = item3\n",
        "\n",
        "    # Rule2: (Item1, Item3) --> Item2\n",
        "    key2 = frozenset([item1,item3])\n",
        "    confidence_rule2 = support_union/ prueba_doubletons[key2]\n",
        "    if confidence_rule2 > conf_level:\n",
        "      association_rules_tripletons_2to1[key2] = item2\n",
        "\n",
        "    # Rule3: (Item2, Item3) --> Item1\n",
        "    key3 = frozenset([item2,item3])\n",
        "    confidence_rule3 = support_union/ prueba_doubletons[key3]\n",
        "    if confidence_rule3 > conf_level:\n",
        "      association_rules_tripletons_2to1[key3] = item1\n",
        "\n",
        "  return association_rules_tripletons_2to1\n",
        "\n",
        "association_rules_tripletons_2to1 =  get_association_rules_tripletons2to1(0.8)\n",
        "print(association_rules_tripletons_2to1)\n",
        "print(len(association_rules_tripletons_2to1))\n",
        ""
      ],
      "metadata": {
        "colab": {
          "base_uri": "https://localhost:8080/"
        },
        "id": "pix8phraD7Ig",
        "outputId": "0608df1c-6cb6-4c21-81f9-8ca5077bc621"
      },
      "execution_count": null,
      "outputs": [
        {
          "output_type": "stream",
          "name": "stdout",
          "text": [
            "{frozenset({4, 373}): 716, frozenset({716, 4}): 373, frozenset({716, 373}): 4, frozenset({32, 6}): 472, frozenset({472, 6}): 32, frozenset({32, 472}): 6, frozenset({227, 12}): 722, frozenset({12, 390}): 722, frozenset({722, 12}): 390, frozenset({21, 413}): 857, frozenset({793, 21}): 857, frozenset({793, 413}): 857, frozenset({857, 21}): 793, frozenset({857, 413}): 793, frozenset({857, 793}): 413, frozenset({32, 285}): 947, frozenset({32, 947}): 285, frozenset({947, 285}): 32, frozenset({33, 217}): 515, frozenset({33, 283}): 515, frozenset({217, 283}): 515, frozenset({33, 346}): 515, frozenset({33, 515}): 346, frozenset({217, 515}): 346, frozenset({346, 283}): 515, frozenset({515, 283}): 346, frozenset({346, 515}): 283, frozenset({704, 39}): 825, frozenset({825, 39}): 704, frozenset({704, 825}): 39, frozenset({944, 54}): 998, frozenset({54, 998}): 944, frozenset({944, 998}): 54, frozenset({684, 70}): 819, frozenset({765, 70}): 819, frozenset({684, 765}): 819, frozenset({819, 70}): 765, frozenset({819, 684}): 765, frozenset({819, 765}): 684, frozenset({75, 438}): 684, frozenset({75, 684}): 438, frozenset({684, 438}): 75, frozenset({105, 494}): 944, frozenset({105, 815}): 944, frozenset({494, 815}): 944, frozenset({105, 862}): 944, frozenset({944, 105}): 862, frozenset({944, 494}): 862, frozenset({862, 815}): 944, frozenset({944, 815}): 862, frozenset({944, 862}): 815, frozenset({120, 593}): 895, frozenset({120, 862}): 895, frozenset({593, 862}): 895, frozenset({120, 895}): 862, frozenset({593, 895}): 862, frozenset({862, 895}): 593, frozenset({354, 158}): 617, frozenset({158, 583}): 617, frozenset({354, 583}): 617, frozenset({617, 158}): 583, frozenset({617, 354}): 583, frozenset({617, 583}): 354, frozenset({185, 471}): 960, frozenset({185, 678}): 960, frozenset({678, 471}): 960, frozenset({960, 185}): 678, frozenset({960, 678}): 471, frozenset({192, 487}): 935, frozenset({935, 487}): 192, frozenset({192, 638}): 935, frozenset({638, 935}): 192, frozenset({192, 888}): 935, frozenset({888, 935}): 192, frozenset({208, 290}): 969, frozenset({208, 458}): 969, frozenset({458, 290}): 969, frozenset({208, 888}): 969, frozenset({888, 290}): 969, frozenset({208, 969}): 888, frozenset({969, 290}): 888, frozenset({888, 458}): 969, frozenset({969, 458}): 888, frozenset({888, 969}): 458, frozenset({217, 546}): 947, frozenset({217, 661}): 947, frozenset({546, 661}): 947, frozenset({217, 923}): 947, frozenset({546, 923}): 947, frozenset({217, 947}): 923, frozenset({546, 947}): 923, frozenset({923, 661}): 947, frozenset({947, 661}): 923, frozenset({227, 390}): 722, frozenset({722, 227}): 390, frozenset({722, 390}): 227, frozenset({242, 471}): 758, frozenset({242, 758}): 471, frozenset({758, 471}): 242, frozenset({561, 346}): 888, frozenset({888, 346}): 561, frozenset({888, 561}): 346, frozenset({411, 350}): 842, frozenset({572, 350}): 842, frozenset({411, 572}): 842, frozenset({579, 350}): 842, frozenset({579, 411}): 842, frozenset({803, 350}): 842, frozenset({842, 350}): 803, frozenset({842, 411}): 803, frozenset({579, 572}): 842, frozenset({803, 572}): 842, frozenset({842, 572}): 803, frozenset({803, 579}): 842, frozenset({842, 579}): 803, frozenset({842, 803}): 579, frozenset({682, 494}): 368, frozenset({392, 801}): 862, frozenset({801, 862}): 392, frozenset({470, 534}): 995, frozenset({995, 470}): 534, frozenset({995, 534}): 470, frozenset({663, 471}): 871, frozenset({871, 471}): 663, frozenset({871, 663}): 471, frozenset({494, 631}): 963, frozenset({541, 631}): 963, frozenset({963, 494}): 631, frozenset({963, 541}): 631, frozenset({963, 631}): 541, frozenset({529, 782}): 598, frozenset({598, 782}): 529, frozenset({571, 623}): 853, frozenset({795, 571}): 853, frozenset({795, 623}): 853, frozenset({571, 853}): 795, frozenset({853, 623}): 795, frozenset({795, 853}): 623, frozenset({883, 708}): 978, frozenset({978, 708}): 883, frozenset({978, 883}): 708}\n",
            "141\n"
          ]
        }
      ]
    }
  ]
}